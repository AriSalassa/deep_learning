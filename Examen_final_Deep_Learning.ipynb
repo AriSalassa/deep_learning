{
  "nbformat": 4,
  "nbformat_minor": 0,
  "metadata": {
    "colab": {
      "name": "Examen final - Deep Learning.ipynb",
      "provenance": [],
      "collapsed_sections": []
    },
    "kernelspec": {
      "name": "python3",
      "display_name": "Python 3"
    },
    "accelerator": "GPU"
  },
  "cells": [
    {
      "cell_type": "markdown",
      "metadata": {
        "id": "ftXnmgdtOuZs"
      },
      "source": [
        "# Universidad de Buenos Aires\n",
        "# Deep Learning - Examen\n",
        "\n"
      ]
    },
    {
      "cell_type": "markdown",
      "metadata": {
        "id": "nlfSxrehmuYW"
      },
      "source": [
        "## Ejercicio 1\n",
        "\n"
      ]
    },
    {
      "cell_type": "markdown",
      "metadata": {
        "id": "FY2z-GSXoFvq"
      },
      "source": [
        "Se quiere encontrar el máximo de la siguiente función:\n",
        "\n",
        "$z = -(x - 2)^2 - (y - 3)^2 + 4$\n",
        "\n",
        "(a) Aplicar gradiente e igualar a zero para encontrar los valores de x e y donde z tiene un máximo. Cuál es el valor del máximo?"
      ]
    },
    {
      "cell_type": "markdown",
      "metadata": {
        "id": "jD051z_UxbVe"
      },
      "source": [
        "```\n",
        "grad(Z) = [ dz/dx , dz/dy ] = [-2*(x-2) , -2*(y-3) ] = [ 0 , 0 ]\n",
        "\n",
        "-2*(x-2) = 0 => x = 2\n",
        "-2*(y-3) = 0 => y = 3\n",
        "\n",
        "El máximo de la función se encuentra en el punto (2,3).\n",
        "```"
      ]
    },
    {
      "cell_type": "markdown",
      "metadata": {
        "id": "hqta9wjTxXYg"
      },
      "source": [
        "(b) Aplicar SGD para encontrar la ubicación del máximo de manera numérica."
      ]
    },
    {
      "cell_type": "markdown",
      "metadata": {
        "id": "3l3sAGVlzGUF"
      },
      "source": [
        "Encontrar el máximo de la función dada es lo mismo que encontrar el mínimo de la función multiplicada por -1."
      ]
    },
    {
      "cell_type": "code",
      "metadata": {
        "id": "WrWR1E8_rK1f"
      },
      "source": [
        "def f(x,y):\n",
        "  return (x - 2)**2 +(y - 3)**2 - 4\n",
        "\n",
        "def fpx(x):\n",
        "  return 2*(x - 2)\n",
        "\n",
        "def fpy(y):\n",
        "  return 2*(y - 3)\n",
        "\n",
        "def fp(x,y):\n",
        "  return 2*(x - 2) + 2*(y - 3)"
      ],
      "execution_count": null,
      "outputs": []
    },
    {
      "cell_type": "code",
      "metadata": {
        "colab": {
          "base_uri": "https://localhost:8080/",
          "height": 314
        },
        "id": "0JXTBbD-tWaT",
        "outputId": "27af4858-6eda-41a3-ad0f-bdbd8e8c25a6"
      },
      "source": [
        "alpha = 0.001\n",
        "tol = 0.0001\n",
        "\n",
        "x = np.random.randint(low=-5,high=5)\n",
        "y = np.random.randint(low=-5,high=5)\n",
        "g = 1\n",
        "\n",
        "hist_x = []\n",
        "hist_y = []\n",
        "hist_g = []\n",
        "\n",
        "while abs(g) > tol:\n",
        "  gx = fpx(x)\n",
        "  gy = fpy(y)\n",
        "  x = x - alpha * gx\n",
        "  y = y - alpha * gy\n",
        "  hist_x.append(x)\n",
        "  hist_y.append(y)\n",
        "  g = fp(x,y)\n",
        "  hist_g.append(g)\n",
        "\n",
        "fig, axs = plt.subplots(3)\n",
        "axs[0].plot(hist_g)\n",
        "axs[1].plot(hist_x)\n",
        "axs[2].plot(hist_y)\n",
        "\n",
        "print(\"Min x: \" + str(x))\n",
        "print(\"Min y: \" + str(y))"
      ],
      "execution_count": null,
      "outputs": [
        {
          "output_type": "stream",
          "text": [
            "Min x: 2.000012481099942\n",
            "Min y: 2.999937594500294\n"
          ],
          "name": "stdout"
        },
        {
          "output_type": "display_data",
          "data": {
            "image/png": "[encoded data removed]",
            "text/plain": [
              "<Figure size 432x288 with 3 Axes>"
            ]
          },
          "metadata": {}
        }
      ]
    },
    {
      "cell_type": "markdown",
      "metadata": {
        "id": "9msorkV4xAuV"
      },
      "source": [
        "Vemos que el máximo está en (2,3) y coincide con el obtenido analíticamente."
      ]
    },
    {
      "cell_type": "markdown",
      "metadata": {
        "id": "73yqE_Sslwif"
      },
      "source": [
        "## Ejercicio 2 \n",
        "\n",
        "Descargar el dataset del siguiente link: https://drive.google.com/file/d/1X8_G5BpQMi-Nnbtms2RL8lcWSxzD8ixd/view?usp=sharing\n",
        "\n",
        "El dataset son compras de productos que diferentes clientes realizaron durante el black sales.\n",
        "\n",
        "El dataset contiene información sobre las transacciones y el objetivo es poder utilizar el dataset para crear diferentes modelos que puedan predecir cuanto un cliente está dispuesto a gastar en un producto en el futuro. Particularmente, vamos a tratar este problema como una clasificación binaria donde queremos averiguar si el cliente va a gatar mucha plata (más de 9000) o poca plata (menos de 9000).\n",
        "\n",
        "Vamos a construir 5 modelos:\n",
        "\n",
        "* Un modeo que siempre predice que los clientes gastan mucha plata en todos los productos.\n",
        "* Un modelo del tipo de Regresión Logīstica Lineal. \n",
        "* Un modelo del tipo Random Forest.\n",
        "* Un modelo del tipo Deep Learning sin embeddings.\n",
        "* Un modelo del tipo Deep Learning con embeddings.\n",
        "\n",
        "A continuación está el código para conectar Google Drive, algunos imports que vas a necesitar (podes agregar más) y el comando para levantar el dataset."
      ]
    },
    {
      "cell_type": "code",
      "metadata": {
        "id": "RLYjGp03v1W_",
        "colab": {
          "base_uri": "https://localhost:8080/"
        },
        "outputId": "e912d144-90da-411a-d085-6f89d921d9a1"
      },
      "source": [
        "from google.colab import drive\n",
        "drive.mount('/content/drive')"
      ],
      "execution_count": 4,
      "outputs": [
        {
          "output_type": "stream",
          "text": [
            "Mounted at /content/drive\n"
          ],
          "name": "stdout"
        }
      ]
    },
    {
      "cell_type": "code",
      "metadata": {
        "id": "BsjcxoOJvjLO"
      },
      "source": [
        "import pandas as pd\n",
        "import numpy as np\n",
        "from scipy import stats\n",
        "import matplotlib.pyplot as plt\n",
        "\n",
        "import seaborn as sns\n",
        "sns.set(style=\"ticks\", color_codes=True, font_scale=1.5)\n",
        "\n",
        "from sklearn import preprocessing\n",
        "from sklearn.linear_model import LogisticRegression\n",
        "from sklearn import metrics\n",
        "from sklearn.ensemble import RandomForestClassifier\n",
        "\n",
        "import tensorflow as tf\n",
        "from tensorflow import keras\n",
        "\n",
        "from keras.models import Sequential\n",
        "from keras.layers import Dense\n",
        "from keras.layers import Dropout\n",
        "from keras.utils.vis_utils import plot_model"
      ],
      "execution_count": 2,
      "outputs": []
    },
    {
      "cell_type": "code",
      "metadata": {
        "id": "fDV4iJGlmXl9"
      },
      "source": [
        "path_to_ds = \"/content/drive/MyDrive/Colab Notebooks/black_sales.csv\"\n",
        "dataset = pd.read_csv(path_to_ds)"
      ],
      "execution_count": 124,
      "outputs": []
    },
    {
      "cell_type": "markdown",
      "metadata": {
        "id": "8rJppFfPy_Wf"
      },
      "source": [
        "### (a) Análisis de datos\n",
        "\n",
        "1. Imprimir las 5 primeros filas del dataset. \n",
        "2. Imprimir los tipos de cada columna del dataset.\n",
        "3. Imprimir las estadísticas básicas de cada columnas. \n",
        "4. Hacer un histograma de la variable Purchase.\n",
        "5. Que columnas son categóricas y cuales son numéricas?\n",
        "6. Para las columnas categóricas, cuántas clases únicas tienen cada una?"
      ]
    },
    {
      "cell_type": "code",
      "metadata": {
        "id": "t1O4vt45vzZw",
        "colab": {
          "base_uri": "https://localhost:8080/",
          "height": 292
        },
        "outputId": "584f68e4-b054-4af1-f8f8-8c82c45dc9dd"
      },
      "source": [
        "dataset.head()"
      ],
      "execution_count": null,
      "outputs": [
        {
          "output_type": "execute_result",
          "data": {
            "text/html": [
              "<div>\n",
              "<style scoped>\n",
              "    .dataframe tbody tr th:only-of-type {\n",
              "        vertical-align: middle;\n",
              "    }\n",
              "\n",
              "    .dataframe tbody tr th {\n",
              "        vertical-align: top;\n",
              "    }\n",
              "\n",
              "    .dataframe thead th {\n",
              "        text-align: right;\n",
              "    }\n",
              "</style>\n",
              "<table border=\"1\" class=\"dataframe\">\n",
              "  <thead>\n",
              "    <tr style=\"text-align: right;\">\n",
              "      <th></th>\n",
              "      <th>User_ID</th>\n",
              "      <th>Product_ID</th>\n",
              "      <th>Gender</th>\n",
              "      <th>Age</th>\n",
              "      <th>Occupation</th>\n",
              "      <th>City_Category</th>\n",
              "      <th>Stay_In_Current_City_Years</th>\n",
              "      <th>Marital_Status</th>\n",
              "      <th>Product_Category_1</th>\n",
              "      <th>Product_Category_2</th>\n",
              "      <th>Product_Category_3</th>\n",
              "      <th>Purchase</th>\n",
              "    </tr>\n",
              "  </thead>\n",
              "  <tbody>\n",
              "    <tr>\n",
              "      <th>0</th>\n",
              "      <td>1000001</td>\n",
              "      <td>P00069042</td>\n",
              "      <td>F</td>\n",
              "      <td>0-17</td>\n",
              "      <td>10</td>\n",
              "      <td>A</td>\n",
              "      <td>2</td>\n",
              "      <td>0</td>\n",
              "      <td>3</td>\n",
              "      <td>NaN</td>\n",
              "      <td>NaN</td>\n",
              "      <td>8370</td>\n",
              "    </tr>\n",
              "    <tr>\n",
              "      <th>1</th>\n",
              "      <td>1000001</td>\n",
              "      <td>P00248942</td>\n",
              "      <td>F</td>\n",
              "      <td>0-17</td>\n",
              "      <td>10</td>\n",
              "      <td>A</td>\n",
              "      <td>2</td>\n",
              "      <td>0</td>\n",
              "      <td>1</td>\n",
              "      <td>6.0</td>\n",
              "      <td>14.0</td>\n",
              "      <td>15200</td>\n",
              "    </tr>\n",
              "    <tr>\n",
              "      <th>2</th>\n",
              "      <td>1000001</td>\n",
              "      <td>P00087842</td>\n",
              "      <td>F</td>\n",
              "      <td>0-17</td>\n",
              "      <td>10</td>\n",
              "      <td>A</td>\n",
              "      <td>2</td>\n",
              "      <td>0</td>\n",
              "      <td>12</td>\n",
              "      <td>NaN</td>\n",
              "      <td>NaN</td>\n",
              "      <td>1422</td>\n",
              "    </tr>\n",
              "    <tr>\n",
              "      <th>3</th>\n",
              "      <td>1000001</td>\n",
              "      <td>P00085442</td>\n",
              "      <td>F</td>\n",
              "      <td>0-17</td>\n",
              "      <td>10</td>\n",
              "      <td>A</td>\n",
              "      <td>2</td>\n",
              "      <td>0</td>\n",
              "      <td>12</td>\n",
              "      <td>14.0</td>\n",
              "      <td>NaN</td>\n",
              "      <td>1057</td>\n",
              "    </tr>\n",
              "    <tr>\n",
              "      <th>4</th>\n",
              "      <td>1000002</td>\n",
              "      <td>P00285442</td>\n",
              "      <td>M</td>\n",
              "      <td>55+</td>\n",
              "      <td>16</td>\n",
              "      <td>C</td>\n",
              "      <td>4+</td>\n",
              "      <td>0</td>\n",
              "      <td>8</td>\n",
              "      <td>NaN</td>\n",
              "      <td>NaN</td>\n",
              "      <td>7969</td>\n",
              "    </tr>\n",
              "  </tbody>\n",
              "</table>\n",
              "</div>"
            ],
            "text/plain": [
              "   User_ID Product_ID Gender  ... Product_Category_2  Product_Category_3 Purchase\n",
              "0  1000001  P00069042      F  ...                NaN                 NaN     8370\n",
              "1  1000001  P00248942      F  ...                6.0                14.0    15200\n",
              "2  1000001  P00087842      F  ...                NaN                 NaN     1422\n",
              "3  1000001  P00085442      F  ...               14.0                 NaN     1057\n",
              "4  1000002  P00285442      M  ...                NaN                 NaN     7969\n",
              "\n",
              "[5 rows x 12 columns]"
            ]
          },
          "metadata": {},
          "execution_count": 52
        }
      ]
    },
    {
      "cell_type": "code",
      "metadata": {
        "colab": {
          "base_uri": "https://localhost:8080/"
        },
        "id": "fO9wTw2s0ASf",
        "outputId": "49f5fa00-4bb4-4467-8559-72a4b32b21bb"
      },
      "source": [
        "dataset.info()"
      ],
      "execution_count": null,
      "outputs": [
        {
          "output_type": "stream",
          "text": [
            "<class 'pandas.core.frame.DataFrame'>\n",
            "RangeIndex: 550068 entries, 0 to 550067\n",
            "Data columns (total 12 columns):\n",
            " #   Column                      Non-Null Count   Dtype  \n",
            "---  ------                      --------------   -----  \n",
            " 0   User_ID                     550068 non-null  int64  \n",
            " 1   Product_ID                  550068 non-null  object \n",
            " 2   Gender                      550068 non-null  object \n",
            " 3   Age                         550068 non-null  object \n",
            " 4   Occupation                  550068 non-null  int64  \n",
            " 5   City_Category               550068 non-null  object \n",
            " 6   Stay_In_Current_City_Years  550068 non-null  object \n",
            " 7   Marital_Status              550068 non-null  int64  \n",
            " 8   Product_Category_1          550068 non-null  int64  \n",
            " 9   Product_Category_2          376430 non-null  float64\n",
            " 10  Product_Category_3          166821 non-null  float64\n",
            " 11  Purchase                    550068 non-null  int64  \n",
            "dtypes: float64(2), int64(5), object(5)\n",
            "memory usage: 50.4+ MB\n"
          ],
          "name": "stdout"
        }
      ]
    },
    {
      "cell_type": "code",
      "metadata": {
        "colab": {
          "base_uri": "https://localhost:8080/",
          "height": 421
        },
        "id": "rHs17xwn0FP3",
        "outputId": "fe40fa91-2eea-4414-89f3-d695920dc34e"
      },
      "source": [
        "dataset.describe(include='all').T"
      ],
      "execution_count": 125,
      "outputs": [
        {
          "output_type": "execute_result",
          "data": {
            "text/html": [
              "<div>\n",
              "<style scoped>\n",
              "    .dataframe tbody tr th:only-of-type {\n",
              "        vertical-align: middle;\n",
              "    }\n",
              "\n",
              "    .dataframe tbody tr th {\n",
              "        vertical-align: top;\n",
              "    }\n",
              "\n",
              "    .dataframe thead th {\n",
              "        text-align: right;\n",
              "    }\n",
              "</style>\n",
              "<table border=\"1\" class=\"dataframe\">\n",
              "  <thead>\n",
              "    <tr style=\"text-align: right;\">\n",
              "      <th></th>\n",
              "      <th>count</th>\n",
              "      <th>unique</th>\n",
              "      <th>top</th>\n",
              "      <th>freq</th>\n",
              "      <th>mean</th>\n",
              "      <th>std</th>\n",
              "      <th>min</th>\n",
              "      <th>25%</th>\n",
              "      <th>50%</th>\n",
              "      <th>75%</th>\n",
              "      <th>max</th>\n",
              "    </tr>\n",
              "  </thead>\n",
              "  <tbody>\n",
              "    <tr>\n",
              "      <th>User_ID</th>\n",
              "      <td>550068</td>\n",
              "      <td>NaN</td>\n",
              "      <td>NaN</td>\n",
              "      <td>NaN</td>\n",
              "      <td>1.00303e+06</td>\n",
              "      <td>1727.59</td>\n",
              "      <td>1e+06</td>\n",
              "      <td>1.00152e+06</td>\n",
              "      <td>1.00308e+06</td>\n",
              "      <td>1.00448e+06</td>\n",
              "      <td>1.00604e+06</td>\n",
              "    </tr>\n",
              "    <tr>\n",
              "      <th>Product_ID</th>\n",
              "      <td>550068</td>\n",
              "      <td>3631</td>\n",
              "      <td>P00265242</td>\n",
              "      <td>1880</td>\n",
              "      <td>NaN</td>\n",
              "      <td>NaN</td>\n",
              "      <td>NaN</td>\n",
              "      <td>NaN</td>\n",
              "      <td>NaN</td>\n",
              "      <td>NaN</td>\n",
              "      <td>NaN</td>\n",
              "    </tr>\n",
              "    <tr>\n",
              "      <th>Gender</th>\n",
              "      <td>550068</td>\n",
              "      <td>2</td>\n",
              "      <td>M</td>\n",
              "      <td>414259</td>\n",
              "      <td>NaN</td>\n",
              "      <td>NaN</td>\n",
              "      <td>NaN</td>\n",
              "      <td>NaN</td>\n",
              "      <td>NaN</td>\n",
              "      <td>NaN</td>\n",
              "      <td>NaN</td>\n",
              "    </tr>\n",
              "    <tr>\n",
              "      <th>Age</th>\n",
              "      <td>550068</td>\n",
              "      <td>7</td>\n",
              "      <td>26-35</td>\n",
              "      <td>219587</td>\n",
              "      <td>NaN</td>\n",
              "      <td>NaN</td>\n",
              "      <td>NaN</td>\n",
              "      <td>NaN</td>\n",
              "      <td>NaN</td>\n",
              "      <td>NaN</td>\n",
              "      <td>NaN</td>\n",
              "    </tr>\n",
              "    <tr>\n",
              "      <th>Occupation</th>\n",
              "      <td>550068</td>\n",
              "      <td>NaN</td>\n",
              "      <td>NaN</td>\n",
              "      <td>NaN</td>\n",
              "      <td>8.07671</td>\n",
              "      <td>6.52266</td>\n",
              "      <td>0</td>\n",
              "      <td>2</td>\n",
              "      <td>7</td>\n",
              "      <td>14</td>\n",
              "      <td>20</td>\n",
              "    </tr>\n",
              "    <tr>\n",
              "      <th>City_Category</th>\n",
              "      <td>550068</td>\n",
              "      <td>3</td>\n",
              "      <td>B</td>\n",
              "      <td>231173</td>\n",
              "      <td>NaN</td>\n",
              "      <td>NaN</td>\n",
              "      <td>NaN</td>\n",
              "      <td>NaN</td>\n",
              "      <td>NaN</td>\n",
              "      <td>NaN</td>\n",
              "      <td>NaN</td>\n",
              "    </tr>\n",
              "    <tr>\n",
              "      <th>Stay_In_Current_City_Years</th>\n",
              "      <td>550068</td>\n",
              "      <td>5</td>\n",
              "      <td>1</td>\n",
              "      <td>193821</td>\n",
              "      <td>NaN</td>\n",
              "      <td>NaN</td>\n",
              "      <td>NaN</td>\n",
              "      <td>NaN</td>\n",
              "      <td>NaN</td>\n",
              "      <td>NaN</td>\n",
              "      <td>NaN</td>\n",
              "    </tr>\n",
              "    <tr>\n",
              "      <th>Marital_Status</th>\n",
              "      <td>550068</td>\n",
              "      <td>NaN</td>\n",
              "      <td>NaN</td>\n",
              "      <td>NaN</td>\n",
              "      <td>0.409653</td>\n",
              "      <td>0.49177</td>\n",
              "      <td>0</td>\n",
              "      <td>0</td>\n",
              "      <td>0</td>\n",
              "      <td>1</td>\n",
              "      <td>1</td>\n",
              "    </tr>\n",
              "    <tr>\n",
              "      <th>Product_Category_1</th>\n",
              "      <td>550068</td>\n",
              "      <td>NaN</td>\n",
              "      <td>NaN</td>\n",
              "      <td>NaN</td>\n",
              "      <td>5.40427</td>\n",
              "      <td>3.93621</td>\n",
              "      <td>1</td>\n",
              "      <td>1</td>\n",
              "      <td>5</td>\n",
              "      <td>8</td>\n",
              "      <td>20</td>\n",
              "    </tr>\n",
              "    <tr>\n",
              "      <th>Product_Category_2</th>\n",
              "      <td>376430</td>\n",
              "      <td>NaN</td>\n",
              "      <td>NaN</td>\n",
              "      <td>NaN</td>\n",
              "      <td>9.84233</td>\n",
              "      <td>5.08659</td>\n",
              "      <td>2</td>\n",
              "      <td>5</td>\n",
              "      <td>9</td>\n",
              "      <td>15</td>\n",
              "      <td>18</td>\n",
              "    </tr>\n",
              "    <tr>\n",
              "      <th>Product_Category_3</th>\n",
              "      <td>166821</td>\n",
              "      <td>NaN</td>\n",
              "      <td>NaN</td>\n",
              "      <td>NaN</td>\n",
              "      <td>12.6682</td>\n",
              "      <td>4.12534</td>\n",
              "      <td>3</td>\n",
              "      <td>9</td>\n",
              "      <td>14</td>\n",
              "      <td>16</td>\n",
              "      <td>18</td>\n",
              "    </tr>\n",
              "    <tr>\n",
              "      <th>Purchase</th>\n",
              "      <td>550068</td>\n",
              "      <td>NaN</td>\n",
              "      <td>NaN</td>\n",
              "      <td>NaN</td>\n",
              "      <td>9263.97</td>\n",
              "      <td>5023.07</td>\n",
              "      <td>12</td>\n",
              "      <td>5823</td>\n",
              "      <td>8047</td>\n",
              "      <td>12054</td>\n",
              "      <td>23961</td>\n",
              "    </tr>\n",
              "  </tbody>\n",
              "</table>\n",
              "</div>"
            ],
            "text/plain": [
              "                             count unique  ...          75%          max\n",
              "User_ID                     550068    NaN  ...  1.00448e+06  1.00604e+06\n",
              "Product_ID                  550068   3631  ...          NaN          NaN\n",
              "Gender                      550068      2  ...          NaN          NaN\n",
              "Age                         550068      7  ...          NaN          NaN\n",
              "Occupation                  550068    NaN  ...           14           20\n",
              "City_Category               550068      3  ...          NaN          NaN\n",
              "Stay_In_Current_City_Years  550068      5  ...          NaN          NaN\n",
              "Marital_Status              550068    NaN  ...            1            1\n",
              "Product_Category_1          550068    NaN  ...            8           20\n",
              "Product_Category_2          376430    NaN  ...           15           18\n",
              "Product_Category_3          166821    NaN  ...           16           18\n",
              "Purchase                    550068    NaN  ...        12054        23961\n",
              "\n",
              "[12 rows x 11 columns]"
            ]
          },
          "metadata": {},
          "execution_count": 125
        }
      ]
    },
    {
      "cell_type": "code",
      "metadata": {
        "colab": {
          "base_uri": "https://localhost:8080/",
          "height": 293
        },
        "id": "6nGpb2QkLvfo",
        "outputId": "8b9fde17-7784-43e3-b484-418f1815de59"
      },
      "source": [
        "dataset.Purchase.hist()"
      ],
      "execution_count": 126,
      "outputs": [
        {
          "output_type": "execute_result",
          "data": {
            "text/plain": [
              "<matplotlib.axes._subplots.AxesSubplot at 0x7fc296203d10>"
            ]
          },
          "metadata": {},
          "execution_count": 126
        },
        {
          "output_type": "display_data",
          "data": {
            "image/png": "[encoded data removed]",
            "text/plain": [
              "<Figure size 432x288 with 1 Axes>"
            ]
          },
          "metadata": {}
        }
      ]
    },
    {
      "cell_type": "markdown",
      "metadata": {
        "id": "M4oTqGrxL1Wv"
      },
      "source": [
        "Si bien hay variables numéricas y objetos en el dataset, todas la variables representan variables categóricas excepto la salida (Purchase) la cual será binarizada más adelante."
      ]
    },
    {
      "cell_type": "code",
      "metadata": {
        "colab": {
          "base_uri": "https://localhost:8080/"
        },
        "id": "J0vj0_xsMGK8",
        "outputId": "38f172cd-eae6-4e49-9932-294dc7f6d778"
      },
      "source": [
        "# Valores únicos para cada variable\n",
        "for col in dataset.drop(columns=\"Purchase\"):\n",
        "    print(col + \"(\" + str(len(dataset[col].unique())) + \"): \" + str(dataset[col].unique()))"
      ],
      "execution_count": 132,
      "outputs": [
        {
          "output_type": "stream",
          "text": [
            "User_ID(5891): [1000001 1000002 1000003 ... 1004113 1005391 1001529]\n",
            "Product_ID(3631): ['P00069042' 'P00248942' 'P00087842' ... 'P00370293' 'P00371644'\n",
            " 'P00370853']\n",
            "Gender(2): ['F' 'M']\n",
            "Age(7): ['0-17' '55+' '26-35' '46-50' '51-55' '36-45' '18-25']\n",
            "Occupation(21): [10 16 15  7 20  9  1 12 17  0  3  4 11  8 19  2 18  5 14 13  6]\n",
            "City_Category(3): ['A' 'C' 'B']\n",
            "Stay_In_Current_City_Years(5): ['2' '4+' '3' '1' '0']\n",
            "Marital_Status(2): [0 1]\n",
            "Product_Category_1(20): [ 3  1 12  8  5  4  2  6 14 11 13 15  7 16 18 10 17  9 20 19]\n",
            "Product_Category_2(18): [nan  6. 14.  2.  8. 15. 16. 11.  5.  3.  4. 12.  9. 10. 17. 13.  7. 18.]\n",
            "Product_Category_3(16): [nan 14. 17.  5.  4. 16. 15.  8.  9. 13.  6. 12.  3. 18. 11. 10.]\n"
          ],
          "name": "stdout"
        }
      ]
    },
    {
      "cell_type": "markdown",
      "metadata": {
        "id": "L4BRHI9azEfL"
      },
      "source": [
        "### (b) Limpieza de datos\n",
        "\n",
        "1. Que columnas tienen NaNs?\n",
        "2. Si la cantidad de filas afectas por NaNs es grande, se propone reemplazar los NaNs por una nueva clase, por ejemplo el valor 999. \n"
      ]
    },
    {
      "cell_type": "code",
      "metadata": {
        "id": "ugQyKyUczHMY"
      },
      "source": [
        "!pip install funpymodeling\n",
        "import funpymodeling as fp"
      ],
      "execution_count": null,
      "outputs": []
    },
    {
      "cell_type": "code",
      "metadata": {
        "colab": {
          "base_uri": "https://localhost:8080/",
          "height": 421
        },
        "id": "Cj4s9EiU0_Lv",
        "outputId": "aa292791-49d3-4a71-81d8-2187a53d0bc4"
      },
      "source": [
        "fp.status(dataset).sort_values('q_nan', ascending=False)"
      ],
      "execution_count": 6,
      "outputs": [
        {
          "output_type": "execute_result",
          "data": {
            "text/html": [
              "<div>\n",
              "<style scoped>\n",
              "    .dataframe tbody tr th:only-of-type {\n",
              "        vertical-align: middle;\n",
              "    }\n",
              "\n",
              "    .dataframe tbody tr th {\n",
              "        vertical-align: top;\n",
              "    }\n",
              "\n",
              "    .dataframe thead th {\n",
              "        text-align: right;\n",
              "    }\n",
              "</style>\n",
              "<table border=\"1\" class=\"dataframe\">\n",
              "  <thead>\n",
              "    <tr style=\"text-align: right;\">\n",
              "      <th></th>\n",
              "      <th>variable</th>\n",
              "      <th>q_nan</th>\n",
              "      <th>p_nan</th>\n",
              "      <th>q_zeros</th>\n",
              "      <th>p_zeros</th>\n",
              "      <th>unique</th>\n",
              "      <th>type</th>\n",
              "    </tr>\n",
              "  </thead>\n",
              "  <tbody>\n",
              "    <tr>\n",
              "      <th>10</th>\n",
              "      <td>Product_Category_3</td>\n",
              "      <td>383247</td>\n",
              "      <td>0.696727</td>\n",
              "      <td>0</td>\n",
              "      <td>0.000000</td>\n",
              "      <td>15</td>\n",
              "      <td>float64</td>\n",
              "    </tr>\n",
              "    <tr>\n",
              "      <th>9</th>\n",
              "      <td>Product_Category_2</td>\n",
              "      <td>173638</td>\n",
              "      <td>0.315666</td>\n",
              "      <td>0</td>\n",
              "      <td>0.000000</td>\n",
              "      <td>17</td>\n",
              "      <td>float64</td>\n",
              "    </tr>\n",
              "    <tr>\n",
              "      <th>0</th>\n",
              "      <td>User_ID</td>\n",
              "      <td>0</td>\n",
              "      <td>0.000000</td>\n",
              "      <td>0</td>\n",
              "      <td>0.000000</td>\n",
              "      <td>5891</td>\n",
              "      <td>int64</td>\n",
              "    </tr>\n",
              "    <tr>\n",
              "      <th>1</th>\n",
              "      <td>Product_ID</td>\n",
              "      <td>0</td>\n",
              "      <td>0.000000</td>\n",
              "      <td>0</td>\n",
              "      <td>0.000000</td>\n",
              "      <td>3631</td>\n",
              "      <td>object</td>\n",
              "    </tr>\n",
              "    <tr>\n",
              "      <th>2</th>\n",
              "      <td>Gender</td>\n",
              "      <td>0</td>\n",
              "      <td>0.000000</td>\n",
              "      <td>0</td>\n",
              "      <td>0.000000</td>\n",
              "      <td>2</td>\n",
              "      <td>object</td>\n",
              "    </tr>\n",
              "    <tr>\n",
              "      <th>3</th>\n",
              "      <td>Age</td>\n",
              "      <td>0</td>\n",
              "      <td>0.000000</td>\n",
              "      <td>0</td>\n",
              "      <td>0.000000</td>\n",
              "      <td>7</td>\n",
              "      <td>object</td>\n",
              "    </tr>\n",
              "    <tr>\n",
              "      <th>4</th>\n",
              "      <td>Occupation</td>\n",
              "      <td>0</td>\n",
              "      <td>0.000000</td>\n",
              "      <td>69638</td>\n",
              "      <td>0.126599</td>\n",
              "      <td>21</td>\n",
              "      <td>int64</td>\n",
              "    </tr>\n",
              "    <tr>\n",
              "      <th>5</th>\n",
              "      <td>City_Category</td>\n",
              "      <td>0</td>\n",
              "      <td>0.000000</td>\n",
              "      <td>0</td>\n",
              "      <td>0.000000</td>\n",
              "      <td>3</td>\n",
              "      <td>object</td>\n",
              "    </tr>\n",
              "    <tr>\n",
              "      <th>6</th>\n",
              "      <td>Stay_In_Current_City_Years</td>\n",
              "      <td>0</td>\n",
              "      <td>0.000000</td>\n",
              "      <td>0</td>\n",
              "      <td>0.000000</td>\n",
              "      <td>5</td>\n",
              "      <td>object</td>\n",
              "    </tr>\n",
              "    <tr>\n",
              "      <th>7</th>\n",
              "      <td>Marital_Status</td>\n",
              "      <td>0</td>\n",
              "      <td>0.000000</td>\n",
              "      <td>324731</td>\n",
              "      <td>0.590347</td>\n",
              "      <td>2</td>\n",
              "      <td>int64</td>\n",
              "    </tr>\n",
              "    <tr>\n",
              "      <th>8</th>\n",
              "      <td>Product_Category_1</td>\n",
              "      <td>0</td>\n",
              "      <td>0.000000</td>\n",
              "      <td>0</td>\n",
              "      <td>0.000000</td>\n",
              "      <td>20</td>\n",
              "      <td>int64</td>\n",
              "    </tr>\n",
              "    <tr>\n",
              "      <th>11</th>\n",
              "      <td>Purchase</td>\n",
              "      <td>0</td>\n",
              "      <td>0.000000</td>\n",
              "      <td>0</td>\n",
              "      <td>0.000000</td>\n",
              "      <td>18105</td>\n",
              "      <td>int64</td>\n",
              "    </tr>\n",
              "  </tbody>\n",
              "</table>\n",
              "</div>"
            ],
            "text/plain": [
              "                      variable   q_nan     p_nan  ...   p_zeros  unique     type\n",
              "10          Product_Category_3  383247  0.696727  ...  0.000000      15  float64\n",
              "9           Product_Category_2  173638  0.315666  ...  0.000000      17  float64\n",
              "0                      User_ID       0  0.000000  ...  0.000000    5891    int64\n",
              "1                   Product_ID       0  0.000000  ...  0.000000    3631   object\n",
              "2                       Gender       0  0.000000  ...  0.000000       2   object\n",
              "3                          Age       0  0.000000  ...  0.000000       7   object\n",
              "4                   Occupation       0  0.000000  ...  0.126599      21    int64\n",
              "5                City_Category       0  0.000000  ...  0.000000       3   object\n",
              "6   Stay_In_Current_City_Years       0  0.000000  ...  0.000000       5   object\n",
              "7               Marital_Status       0  0.000000  ...  0.590347       2    int64\n",
              "8           Product_Category_1       0  0.000000  ...  0.000000      20    int64\n",
              "11                    Purchase       0  0.000000  ...  0.000000   18105    int64\n",
              "\n",
              "[12 rows x 7 columns]"
            ]
          },
          "metadata": {},
          "execution_count": 6
        }
      ]
    },
    {
      "cell_type": "markdown",
      "metadata": {
        "id": "4bdsj0dU1FAh"
      },
      "source": [
        "Vemos que las columnas Product_Category_3 y Product_Category_2 son las únicas que presentan valores faltantes y tienen un 70% y 32% de datos faltantes respectivamente. Se imputan estos nans por el valor 999."
      ]
    },
    {
      "cell_type": "code",
      "metadata": {
        "id": "W0CgwRZD1cHV"
      },
      "source": [
        "dataset.loc[dataset['Product_Category_2'].isna() , 'Product_Category_2'] = 999\n",
        "dataset.loc[dataset['Product_Category_3'].isna() , 'Product_Category_3'] = 999"
      ],
      "execution_count": 6,
      "outputs": []
    },
    {
      "cell_type": "markdown",
      "metadata": {
        "id": "kFOEkF06zHpP"
      },
      "source": [
        "### (c) Ingeniería de features\n",
        "\n",
        "1. Transformar todas las variables categoricas (expecto User_Id y Product_Id) en one-hot-encoding. \n",
        "2. Crear un index para User_Id y Product_id, para poder entrenar un modelo de Deep Learning con embeddings.\n",
        "3. Porque es importante crear un index para entrenar el modelo de Deep Learning con embeddings?\n",
        "4. Porque es importante guardar el mapping de id a index?\n",
        "5. Transformar la variable Purchase en una variable purchase_binary, tal que todos los valores mayores a 9000 hagan un mapping a 1 y todos los valores menores o iguales a 9000 hagan un mapping a 0.\n",
        "6. Normalizar todos los valores entre 0 y 1.\n",
        "7. Hacer un split del dataset en training (70%), validation (20%) y testing (10%). Para crear el dataset de training se recomienda separar User_id y Product_id de la matriz x_train, x_valid y x_test. Pero también obtener user_idx_train, user_idx_valid y user_idex_test de tal manera que sea correspondientes con las matrices x. Lo mismo para el Product_Id. "
      ]
    },
    {
      "cell_type": "code",
      "metadata": {
        "id": "atxZG4c8zJZk"
      },
      "source": [
        "# Codificación de variables categóricas\n",
        "cols = dataset.columns.drop(['User_ID','Product_ID','Purchase']).to_numpy()\n",
        "dataset = pd.get_dummies(dataset, columns = cols)"
      ],
      "execution_count": 7,
      "outputs": []
    },
    {
      "cell_type": "code",
      "metadata": {
        "id": "Itychcg08ee2"
      },
      "source": [
        "# User_ID mapping\n",
        "user_id = dataset['User_ID']\n",
        "dataset.drop(columns=['User_ID'], inplace=True)"
      ],
      "execution_count": 8,
      "outputs": []
    },
    {
      "cell_type": "code",
      "metadata": {
        "id": "GzUgnwmU7LoS"
      },
      "source": [
        "user_unique, inverse = np.unique(user_id, return_inverse=True)\n",
        "user_id_to_index = {key: value for key,value in zip(user_id,inverse)}\n",
        "user_index = np.array([user_id_to_index[id] for id in user_id])"
      ],
      "execution_count": 49,
      "outputs": []
    },
    {
      "cell_type": "code",
      "metadata": {
        "id": "im0FZGM48q9q"
      },
      "source": [
        "# Product_ID mapping\n",
        "product_id = dataset['Product_ID']\n",
        "dataset.drop(columns=['Product_ID'], inplace=True)"
      ],
      "execution_count": 10,
      "outputs": []
    },
    {
      "cell_type": "code",
      "metadata": {
        "id": "3U1baF1w8xLO"
      },
      "source": [
        "product_unique, inverse = np.unique(product_id, return_inverse=True)\n",
        "product_id_to_index = {key: value for key,value in zip(product_id,inverse)}\n",
        "product_index = np.array([product_id_to_index[id] for id in product_id])"
      ],
      "execution_count": 50,
      "outputs": []
    },
    {
      "cell_type": "markdown",
      "metadata": {
        "id": "seYHqN-zQumi"
      },
      "source": [
        "Es importante el mapeo de los ids (que pueden ser cualquier tipo de variable categorica) a index entre 0 y N-1 siendo N la cantidad de valores de id unicos. Eston IDs son alimentados a un layer de embeddings que, una vez entrenado, dará una buena representación de la variable con un número de salidas muy inferior a N.\n",
        "Es importante guardar los arreglos index->id e id->index para ir y volver tanto al momento de entrenar como de predecir."
      ]
    },
    {
      "cell_type": "code",
      "metadata": {
        "colab": {
          "base_uri": "https://localhost:8080/"
        },
        "id": "WPQgbTBP86A0",
        "outputId": "ee3c9e88-43b4-43cf-acbf-4f465f748dd5"
      },
      "source": [
        "# Binarizar variable de salida según si es mayor a 9000 o no\n",
        "dataset['Purchase'] = dataset.Purchase.apply(lambda label: 0 if label <=9000 else 1)\n",
        "print(len(dataset[dataset['Purchase'] == 0]))\n",
        "print(len(dataset[dataset['Purchase'] == 1]))"
      ],
      "execution_count": 12,
      "outputs": [
        {
          "output_type": "stream",
          "text": [
            "330871\n",
            "219197\n"
          ],
          "name": "stdout"
        }
      ]
    },
    {
      "cell_type": "markdown",
      "metadata": {
        "id": "1kO7G0xo9rn1"
      },
      "source": [
        "No tiene sentido normalizar el dataset ya que todas las variables se trataron como categoricas y se codificaron por ende el dataset consiste completamente en 1s y 0s."
      ]
    },
    {
      "cell_type": "code",
      "metadata": {
        "id": "Q15Cs6VC_CDu"
      },
      "source": [
        "label = dataset.Purchase.to_numpy()\n",
        "final_data = dataset.drop(['Purchase'], axis=1, inplace=False).to_numpy()"
      ],
      "execution_count": 13,
      "outputs": []
    },
    {
      "cell_type": "code",
      "metadata": {
        "id": "XuM62Vo-99MB"
      },
      "source": [
        "# Dataset split\n",
        "n = final_data.shape[0]\n",
        "idx = np.random.permutation(np.arange(0,n))\n",
        "a = int(0.7*n)\n",
        "b = int(0.9*n)\n",
        "train_idx = idx[:a]\n",
        "valid_idx = idx[a:b]\n",
        "test_idx =  idx[b:]\n",
        "assert len(train_idx) + len(valid_idx) + len(test_idx) == len(idx)"
      ],
      "execution_count": 14,
      "outputs": []
    },
    {
      "cell_type": "code",
      "metadata": {
        "id": "FbQ1hmPy-fNc"
      },
      "source": [
        "user_index_train = user_index[train_idx]\n",
        "product_index_train = product_index[train_idx]\n",
        "X_train = final_data[train_idx,:]\n",
        "y_train = label[train_idx]\n",
        "\n",
        "user_index_valid = user_index[valid_idx]\n",
        "product_index_valid = product_index[valid_idx]\n",
        "X_valid = final_data[valid_idx,:]\n",
        "y_valid = label[valid_idx]\n",
        "\n",
        "user_index_test = user_index[test_idx]\n",
        "product_index_test = product_index[test_idx]\n",
        "X_test = final_data[test_idx]\n",
        "y_test = label[test_idx]"
      ],
      "execution_count": 15,
      "outputs": []
    },
    {
      "cell_type": "markdown",
      "metadata": {
        "id": "l2ZmJic-zJ00"
      },
      "source": [
        "### (d) Modelo base\n",
        "\n",
        "1. Entrenar un modelo base que siempre de como predicción que el purchase del cliente es de valor elevado.\n",
        "2. Calcular el AUC de este modelo.\n",
        "3. Porque es importante siempre definir un modelo base?"
      ]
    },
    {
      "cell_type": "code",
      "metadata": {
        "id": "W3V9S_FpzMvh"
      },
      "source": [
        "class BaseModel:\n",
        "  def predict(self,X):\n",
        "    return np.ones((X.shape[0],1))"
      ],
      "execution_count": 16,
      "outputs": []
    },
    {
      "cell_type": "code",
      "metadata": {
        "id": "a_XR8BOXAMjg"
      },
      "source": [
        "baseModel = BaseModel()\n",
        "yp_bm = baseModel.predict(X_test)"
      ],
      "execution_count": 17,
      "outputs": []
    },
    {
      "cell_type": "code",
      "metadata": {
        "colab": {
          "base_uri": "https://localhost:8080/"
        },
        "id": "aCpyjIgUAcXM",
        "outputId": "dcf91ccb-c1cd-4b18-91d2-df73d3a8bebe"
      },
      "source": [
        "fpr, tpr, thresholds = metrics.roc_curve(y_test, yp_bm)\n",
        "bm_auc = metrics.auc(fpr,tpr)\n",
        "print(bm_auc)"
      ],
      "execution_count": 139,
      "outputs": [
        {
          "output_type": "stream",
          "text": [
            "0.5\n"
          ],
          "name": "stdout"
        }
      ]
    },
    {
      "cell_type": "markdown",
      "metadata": {
        "id": "L-4XnJ-jSQyi"
      },
      "source": [
        "Es importante definir un modelo base para poder comparar el rendimiento de los demás modelos, es decir, para tener un punto de referencia."
      ]
    },
    {
      "cell_type": "markdown",
      "metadata": {
        "id": "ZtmrDLMBzOzv"
      },
      "source": [
        "### (e) Regresión logísica\n",
        "\n",
        "1. Entrenar un modelo de regresión logística que sea mejor que el modelo base (no usar User_Id y Product_Id). \n",
        "2. Porque es importante normalizar los datos antes de entrenar el modelo de regresión logística?\n",
        "3. Porque es importante utilizar una metrica como AUC en un problema de clasificación binaria?"
      ]
    },
    {
      "cell_type": "code",
      "metadata": {
        "id": "2gFdeMUOzQyG",
        "colab": {
          "base_uri": "https://localhost:8080/"
        },
        "outputId": "fee960f4-1287-4cf2-e961-f444be5b75e8"
      },
      "source": [
        "lr_model = LogisticRegression(C=1, solver='sag', max_iter=1000)\n",
        "lr_model.fit(X_train, y_train)"
      ],
      "execution_count": 137,
      "outputs": [
        {
          "output_type": "execute_result",
          "data": {
            "text/plain": [
              "LogisticRegression(C=1, class_weight=None, dual=False, fit_intercept=True,\n",
              "                   intercept_scaling=1, l1_ratio=None, max_iter=1000,\n",
              "                   multi_class='auto', n_jobs=None, penalty='l2',\n",
              "                   random_state=None, solver='sag', tol=0.0001, verbose=0,\n",
              "                   warm_start=False)"
            ]
          },
          "metadata": {},
          "execution_count": 137
        }
      ]
    },
    {
      "cell_type": "code",
      "metadata": {
        "colab": {
          "base_uri": "https://localhost:8080/"
        },
        "id": "L7ASEFGXBOt7",
        "outputId": "7d196101-c28f-49ec-909f-4d07c850bd18"
      },
      "source": [
        "lr_test_scores = lr_model.predict_proba(X_test)\n",
        "fpr, tpr, thresholds = metrics.roc_curve(y_test, lr_test_scores[:,1])\n",
        "lr_auc = metrics.auc(fpr,tpr)\n",
        "print(lr_auc)"
      ],
      "execution_count": 144,
      "outputs": [
        {
          "output_type": "stream",
          "text": [
            "0.9277830025346558\n"
          ],
          "name": "stdout"
        }
      ]
    },
    {
      "cell_type": "markdown",
      "metadata": {
        "id": "akK5TJipSY8i"
      },
      "source": [
        "Es importante normalizar los datos antes de entrenar un modelo de regresión logística porque sino el modelo va a tender a darle más importancia a las variables que tienen magnitudes más grandes y viceversa."
      ]
    },
    {
      "cell_type": "markdown",
      "metadata": {
        "id": "SbnQ4D9MSxzN"
      },
      "source": [
        "Es importante usar una métrica AUC para un problema de clasificación binaria para dar un valor estándarizado de performance, en este caso teniendo en cuenta los verdaderos positivos y los falsos positivos. "
      ]
    },
    {
      "cell_type": "markdown",
      "metadata": {
        "id": "lJtPEyt-zRKS"
      },
      "source": [
        "### (f) Random forest\n",
        "\n",
        "1. Entrenar un modelo de Random Forest que sea mejor que el modelo base (no usar User_Id y Product_Id)."
      ]
    },
    {
      "cell_type": "code",
      "metadata": {
        "id": "fYtHyWVZzSX4",
        "colab": {
          "base_uri": "https://localhost:8080/"
        },
        "outputId": "9135f5bb-3ac7-4ef3-86b8-6391736aeda4"
      },
      "source": [
        "rf_model = RandomForestClassifier(n_estimators=100, max_depth=None, random_state=0)\n",
        "rf_model.fit(X_train, y_train)"
      ],
      "execution_count": 135,
      "outputs": [
        {
          "output_type": "execute_result",
          "data": {
            "text/plain": [
              "RandomForestClassifier(bootstrap=True, ccp_alpha=0.0, class_weight=None,\n",
              "                       criterion='gini', max_depth=None, max_features='auto',\n",
              "                       max_leaf_nodes=None, max_samples=None,\n",
              "                       min_impurity_decrease=0.0, min_impurity_split=None,\n",
              "                       min_samples_leaf=1, min_samples_split=2,\n",
              "                       min_weight_fraction_leaf=0.0, n_estimators=100,\n",
              "                       n_jobs=None, oob_score=False, random_state=0, verbose=0,\n",
              "                       warm_start=False)"
            ]
          },
          "metadata": {},
          "execution_count": 135
        }
      ]
    },
    {
      "cell_type": "code",
      "metadata": {
        "colab": {
          "base_uri": "https://localhost:8080/"
        },
        "id": "z6JnWPwyBe41",
        "outputId": "b810183b-7153-4161-bc02-6765e875431c"
      },
      "source": [
        "rf_test_scores = rf_model.predict_proba(X_test)\n",
        "fpr, tpr, thresholds = metrics.roc_curve(y_test, rf_test_scores[:,1])\n",
        "rf_auc = metrics.auc(fpr,tpr)\n",
        "print(rf_auc)"
      ],
      "execution_count": 141,
      "outputs": [
        {
          "output_type": "stream",
          "text": [
            "0.9251817528558526\n"
          ],
          "name": "stdout"
        }
      ]
    },
    {
      "cell_type": "markdown",
      "metadata": {
        "id": "k6ZCMF7ZzTcI"
      },
      "source": [
        "### (g) Deep learning sin embeddings\n",
        "\n",
        "1. Entrenar un modelo de Deep Learning que no utilice embeddings (no usar User_Id y Product_Id)."
      ]
    },
    {
      "cell_type": "code",
      "metadata": {
        "id": "oUZ75wIiEaeA"
      },
      "source": [
        "import torch\n",
        "from torch.utils.data import Dataset, DataLoader"
      ],
      "execution_count": 22,
      "outputs": []
    },
    {
      "cell_type": "code",
      "metadata": {
        "id": "MMl0QMwYzVJe"
      },
      "source": [
        "class CustomDataset(Dataset):\n",
        "    def __init__(self, X, Y):\n",
        "        super().__init__()\n",
        "        self.X = X\n",
        "        self.Y = Y\n",
        "\n",
        "    def __len__(self):\n",
        "        return self.X.shape[0]\n",
        "\n",
        "    def __getitem__(self, idx):\n",
        "        return self.X[idx, :], self.Y[idx]"
      ],
      "execution_count": 105,
      "outputs": []
    },
    {
      "cell_type": "code",
      "metadata": {
        "id": "4s1heF8-CMIs"
      },
      "source": [
        "training = CustomDataset(X_train, y_train)\n",
        "validation = CustomDataset(X_valid, y_valid)\n",
        "testing = CustomDataset(X_test, y_test)"
      ],
      "execution_count": 106,
      "outputs": []
    },
    {
      "cell_type": "code",
      "metadata": {
        "colab": {
          "base_uri": "https://localhost:8080/"
        },
        "id": "1NDUc4RjCSFL",
        "outputId": "ed0d5bd3-1ae4-46ba-dc43-3a897f824b56"
      },
      "source": [
        "print(len(training))\n",
        "print(len(validation))\n",
        "print(len(testing))"
      ],
      "execution_count": 107,
      "outputs": [
        {
          "output_type": "stream",
          "text": [
            "385047\n",
            "110014\n",
            "55007\n"
          ],
          "name": "stdout"
        }
      ]
    },
    {
      "cell_type": "code",
      "metadata": {
        "id": "6jyzT6AzCVet"
      },
      "source": [
        "training_dataloader = DataLoader(training, batch_size=1000, shuffle=True)\n",
        "validation_dataloader = DataLoader(validation, batch_size=1000, shuffle=True)\n",
        "test_dataloader = DataLoader(testing, batch_size=1000, shuffle=True)"
      ],
      "execution_count": 108,
      "outputs": []
    },
    {
      "cell_type": "code",
      "metadata": {
        "colab": {
          "base_uri": "https://localhost:8080/"
        },
        "id": "bYX1SUkREik9",
        "outputId": "639aa333-b5a1-4ebe-d9a4-d28c1cbfb1fe"
      },
      "source": [
        "X_train.shape"
      ],
      "execution_count": 109,
      "outputs": [
        {
          "output_type": "execute_result",
          "data": {
            "text/plain": [
              "(385047, 94)"
            ]
          },
          "metadata": {},
          "execution_count": 109
        }
      ]
    },
    {
      "cell_type": "code",
      "metadata": {
        "id": "-P0Q5oDVCcIM"
      },
      "source": [
        "class NNet(torch.nn.Module):\n",
        "    def __init__(self):\n",
        "        super().__init__()\n",
        "        self.linear_1 = torch.nn.Linear(in_features=94, out_features=500, bias=True)\n",
        "        self.relu_1 = torch.nn.ReLU()\n",
        "        self.linear_2 = torch.nn.Linear(in_features=500, out_features=100, bias=True)\n",
        "        self.relu_2 = torch.nn.ReLU()\n",
        "        self.linear_3 = torch.nn.Linear(in_features=100, out_features=1, bias=True)\n",
        "        # Vamos a usar como función de costo la BCEWithLogitsLoss que incluye una sigmoid por lo cual no hace falta ponerla acá.\n",
        "        # La ventaja de usar esta función es que es numéricamente más estable\n",
        "    \n",
        "    def forward(self, x):\n",
        "        z1 = self.linear_1(x)\n",
        "        a1 = self.relu_1(z1)\n",
        "        z2 = self.linear_2(a1)\n",
        "        a2 = self.relu_2(z2)\n",
        "        y = self.linear_3(a2)\n",
        "        return y"
      ],
      "execution_count": 118,
      "outputs": []
    },
    {
      "cell_type": "code",
      "metadata": {
        "colab": {
          "base_uri": "https://localhost:8080/"
        },
        "id": "yfMIBuZUChbK",
        "outputId": "6af00b4b-6528-4c06-bbbb-898719d47dfd"
      },
      "source": [
        "nnet = NNet()\n",
        "print(nnet)"
      ],
      "execution_count": 119,
      "outputs": [
        {
          "output_type": "stream",
          "text": [
            "NNet(\n",
            "  (linear_1): Linear(in_features=94, out_features=500, bias=True)\n",
            "  (relu_1): ReLU()\n",
            "  (linear_2): Linear(in_features=500, out_features=100, bias=True)\n",
            "  (relu_2): ReLU()\n",
            "  (linear_3): Linear(in_features=100, out_features=1, bias=True)\n",
            ")\n"
          ],
          "name": "stdout"
        }
      ]
    },
    {
      "cell_type": "code",
      "metadata": {
        "id": "08VjyGTlCkw3"
      },
      "source": [
        "criterion = torch.nn.BCEWithLogitsLoss(reduction='sum') # Loss function\n",
        "optimizer = torch.optim.Adam(nnet.parameters(), lr=0.1) # Optimizer"
      ],
      "execution_count": 120,
      "outputs": []
    },
    {
      "cell_type": "code",
      "metadata": {
        "colab": {
          "base_uri": "https://localhost:8080/"
        },
        "id": "33STgOlwCo31",
        "outputId": "7003ec79-81e5-4dd0-b505-7c3120c21c6c"
      },
      "source": [
        "# Mover modelo a la RAM de la GPU si hay GPU disponible.\n",
        "device = torch.device(\"cuda:0\" if torch.cuda.is_available() else \"cpu\")\n",
        "nnet.to(device)\n",
        "\n",
        "for epoch in range(50):\n",
        "\n",
        "    running_loss = 0\n",
        "    nnet.train()\n",
        "    for i, data in enumerate(training_dataloader):\n",
        "\n",
        "        # batch\n",
        "        x, y = data\n",
        "        x = x.to(device).float()\n",
        "        y = y.to(device).float().reshape(-1,1)\n",
        "\n",
        "        # set gradient to zero\n",
        "        optimizer.zero_grad()\n",
        "\n",
        "        # forward \n",
        "        y_hat = nnet(x)\n",
        "\n",
        "        # loss\n",
        "        loss = criterion(y_hat, y)\n",
        "\n",
        "        # backward\n",
        "        loss.backward()\n",
        "\n",
        "        # update of parameters\n",
        "        optimizer.step()\n",
        "\n",
        "        # compute metrics and statistics\n",
        "        running_loss += loss.item()\n",
        "    \n",
        "    nnet.eval()\n",
        "    with torch.no_grad():\n",
        "        nnet_test_scores = []\n",
        "        truth = []\n",
        "        for i, data in enumerate(test_dataloader):\n",
        "            # batch\n",
        "            x, y = data\n",
        "            x = x.to(device).float()\n",
        "            y = y.to(device).float().reshape(-1,1)\n",
        "\n",
        "            # forward \n",
        "            y_hat = nnet(x)\n",
        "            y_hat = torch.sigmoid(y_hat) # Agrego la sigmoid porque en entrenamiento la sigmoid esta incluida en la fx de costo\n",
        "\n",
        "            # accumulate data\n",
        "            truth += list(y.cpu().numpy()) \n",
        "            nnet_test_scores += list(y_hat.cpu().numpy())\n",
        "\n",
        "        fpr, tpr, thresholds = metrics.roc_curve(truth, nnet_test_scores)\n",
        "        auc = metrics.auc(fpr, tpr)\n",
        "        print(f\"Epoch = {epoch} | loss = {running_loss / len(training)} | auc = {auc}\")"
      ],
      "execution_count": 121,
      "outputs": [
        {
          "output_type": "stream",
          "text": [
            "Epoch = 0 | loss = 0.4503556656535359 | auc = 0.9291166062861691\n",
            "Epoch = 1 | loss = 0.31120955916042775 | auc = 0.9304816950353263\n",
            "Epoch = 2 | loss = 0.31056873639243837 | auc = 0.9306232785283136\n",
            "Epoch = 3 | loss = 0.30944374621149906 | auc = 0.9312709164927323\n",
            "Epoch = 4 | loss = 0.308695019838683 | auc = 0.9311350789307554\n",
            "Epoch = 5 | loss = 0.30903955869099553 | auc = 0.9309461868815239\n",
            "Epoch = 6 | loss = 0.30809719031689786 | auc = 0.931721775808891\n",
            "Epoch = 7 | loss = 0.3081222520453407 | auc = 0.9311778991898266\n",
            "Epoch = 8 | loss = 0.3081686784740067 | auc = 0.9317129447772112\n",
            "Epoch = 9 | loss = 0.30735131789584186 | auc = 0.9309885828702661\n",
            "Epoch = 10 | loss = 0.3072779735874911 | auc = 0.9316333647710059\n",
            "Epoch = 11 | loss = 0.3072856024098876 | auc = 0.9308302976135908\n",
            "Epoch = 12 | loss = 0.30716581810015053 | auc = 0.9311839072716095\n",
            "Epoch = 13 | loss = 0.3070972666883959 | auc = 0.929922802695963\n",
            "Epoch = 14 | loss = 0.3079440477255387 | auc = 0.9318197367234693\n",
            "Epoch = 15 | loss = 0.30700320989609375 | auc = 0.9315014029012385\n",
            "Epoch = 16 | loss = 0.31111017458003215 | auc = 0.9293957492577863\n",
            "Epoch = 17 | loss = 0.30796574547753297 | auc = 0.9310542764741057\n",
            "Epoch = 18 | loss = 0.30732550763682503 | auc = 0.9313357153345934\n",
            "Epoch = 19 | loss = 0.3075090260580685 | auc = 0.9317482875304332\n",
            "Epoch = 20 | loss = 0.306284412322738 | auc = 0.9311555784312919\n",
            "Epoch = 21 | loss = 0.30643122678926915 | auc = 0.9314967076429298\n",
            "Epoch = 22 | loss = 0.3065598102614132 | auc = 0.9308030629078131\n",
            "Epoch = 23 | loss = 0.31172173966509364 | auc = 0.9290061711340442\n",
            "Epoch = 24 | loss = 0.3081328194558111 | auc = 0.9308619405915686\n",
            "Epoch = 25 | loss = 0.3074746000442204 | auc = 0.9314693949817907\n",
            "Epoch = 26 | loss = 0.30701497592390103 | auc = 0.9305253872906514\n",
            "Epoch = 27 | loss = 0.306822286861334 | auc = 0.9303126864323161\n",
            "Epoch = 28 | loss = 0.30691605829462104 | auc = 0.9306773898971032\n",
            "Epoch = 29 | loss = 0.30669164640379193 | auc = 0.9310983219431029\n",
            "Epoch = 30 | loss = 0.30577640263825673 | auc = 0.9311969416839646\n",
            "Epoch = 31 | loss = 0.3062964764946667 | auc = 0.9306123075184859\n",
            "Epoch = 32 | loss = 0.30640440694524446 | auc = 0.9319137177753991\n",
            "Epoch = 33 | loss = 0.3064547455000265 | auc = 0.9311794645058864\n",
            "Epoch = 34 | loss = 0.30519972894293085 | auc = 0.9304681059671263\n",
            "Epoch = 35 | loss = 0.3053894598261433 | auc = 0.9316285963864288\n",
            "Epoch = 36 | loss = 0.30561657810750376 | auc = 0.9316945887041748\n",
            "Epoch = 37 | loss = 0.3065976109191747 | auc = 0.9311229310019331\n",
            "Epoch = 38 | loss = 0.3085636973915716 | auc = 0.9313949945229529\n",
            "Epoch = 39 | loss = 0.3071481420393144 | auc = 0.9310728905586919\n",
            "Epoch = 40 | loss = 0.3053077052385914 | auc = 0.9309967564554034\n",
            "Epoch = 41 | loss = 0.3055194891868121 | auc = 0.9309333525316004\n",
            "Epoch = 42 | loss = 0.30482578607741834 | auc = 0.9316192886542651\n",
            "Epoch = 43 | loss = 0.305341800996946 | auc = 0.9314614255983078\n",
            "Epoch = 44 | loss = 0.305780207978271 | auc = 0.9312393321537432\n",
            "Epoch = 45 | loss = 0.30629688091219776 | auc = 0.9309045028390901\n",
            "Epoch = 46 | loss = 0.30560663632018487 | auc = 0.9315380350223388\n",
            "Epoch = 47 | loss = 0.3051731329435291 | auc = 0.9313425402229933\n",
            "Epoch = 48 | loss = 0.30542321429497715 | auc = 0.9314181079426392\n",
            "Epoch = 49 | loss = 0.3050326758265183 | auc = 0.9316671511764838\n"
          ],
          "name": "stdout"
        }
      ]
    },
    {
      "cell_type": "code",
      "metadata": {
        "id": "Akln56jBO5mn"
      },
      "source": [
        "dl_auc = 0.9316"
      ],
      "execution_count": 142,
      "outputs": []
    },
    {
      "cell_type": "markdown",
      "metadata": {
        "id": "rpZwd3PTzVbl"
      },
      "source": [
        "### (h) Deep learning con embeddings\n",
        "\n",
        "1. Entrenar un model de Deep Learning que utilice embeddings de los usuarios y los productos."
      ]
    },
    {
      "cell_type": "code",
      "metadata": {
        "id": "XLPqGmr0zYPu"
      },
      "source": [
        "class CustomDatasetWithEmbedding(Dataset):\n",
        "    def __init__(self, X, user_idx, product_idx, Y):\n",
        "        super().__init__()\n",
        "        self.user_idx = user_idx\n",
        "        self.product_idx = product_idx\n",
        "        self.X = X\n",
        "        self.Y = Y\n",
        "\n",
        "    def __len__(self):\n",
        "        return self.X.shape[0]\n",
        "\n",
        "    def __getitem__(self, idx):\n",
        "        return self.X[idx,:], self.user_idx[idx], self.product_idx[idx], self.Y[idx]"
      ],
      "execution_count": 46,
      "outputs": []
    },
    {
      "cell_type": "code",
      "metadata": {
        "id": "FPfNS6UfC8-9"
      },
      "source": [
        "training = CustomDatasetWithEmbedding(X_train, user_index_train, product_index_train, y_train)\n",
        "validation = CustomDatasetWithEmbedding(X_valid, user_index_valid, product_index_valid, y_valid)\n",
        "testing = CustomDatasetWithEmbedding(X_test, user_index_test, product_index_test, y_test)"
      ],
      "execution_count": 47,
      "outputs": []
    },
    {
      "cell_type": "code",
      "metadata": {
        "id": "W-u_o2m-C-7Z"
      },
      "source": [
        "training_dataloader = DataLoader(training, batch_size=1000, shuffle=True)\n",
        "validation_dataloader = DataLoader(validation, batch_size=1000, shuffle=True)\n",
        "test_dataloader = DataLoader(testing, batch_size=1000, shuffle=True)"
      ],
      "execution_count": 48,
      "outputs": []
    },
    {
      "cell_type": "code",
      "metadata": {
        "id": "5tt0RMcaDCnY"
      },
      "source": [
        "class NNet(torch.nn.Module):\n",
        "    def __init__(self, number_of_users, number_of_products, embedding_dim_user, embedding_dim_product):\n",
        "        super().__init__()\n",
        "        self.user_embedding = torch.nn.Embedding(num_embeddings=number_of_users, embedding_dim=embedding_dim_user)\n",
        "        self.product_embedding = torch.nn.Embedding(num_embeddings=number_of_products, embedding_dim=embedding_dim_product)\n",
        "        self.linear_1 = torch.nn.Linear(in_features=(94 + embedding_dim_user + embedding_dim_product), out_features=500, bias=True)\n",
        "        self.relu_1 = torch.nn.LeakyReLU()\n",
        "        self.dropout_1 = torch.nn.Dropout(0.5)\n",
        "        self.linear_2 = torch.nn.Linear(in_features=500, out_features=100, bias=True)\n",
        "        self.relu_2 = torch.nn.LeakyReLU()\n",
        "        self.dropout_2 = torch.nn.Dropout(0.5)\n",
        "        self.linear_3 = torch.nn.Linear(in_features=100, out_features=1, bias=True)\n",
        "    \n",
        "    def forward(self, x, user_idx, product_idx):\n",
        "        user_emb = self.user_embedding(user_idx)\n",
        "        product_emb = self.product_embedding(product_idx)\n",
        "        final_input = torch.cat([x, user_emb, product_emb], dim=1)\n",
        "        z1 = self.linear_1(final_input)\n",
        "        a1 = self.relu_1(z1)\n",
        "        d1 = self.dropout_1(a1)\n",
        "        z2 = self.linear_2(d1)\n",
        "        a2 = self.relu_2(z2)\n",
        "        d2 = self.dropout_1(a2)\n",
        "        y = self.linear_3(d2)\n",
        "        return y"
      ],
      "execution_count": 88,
      "outputs": []
    },
    {
      "cell_type": "code",
      "metadata": {
        "colab": {
          "base_uri": "https://localhost:8080/"
        },
        "id": "rvUPxZ-gDg08",
        "outputId": "c588fce6-4f14-4d69-924a-7196e375cf50"
      },
      "source": [
        "nnet = NNet(number_of_users=len(user_unique), number_of_products=len(product_unique), embedding_dim_user=16, embedding_dim_product = 16)\n",
        "print(nnet)"
      ],
      "execution_count": 89,
      "outputs": [
        {
          "output_type": "stream",
          "text": [
            "NNet(\n",
            "  (user_embedding): Embedding(5891, 16)\n",
            "  (product_embedding): Embedding(3631, 16)\n",
            "  (linear_1): Linear(in_features=126, out_features=500, bias=True)\n",
            "  (relu_1): LeakyReLU(negative_slope=0.01)\n",
            "  (dropout_1): Dropout(p=0.5, inplace=False)\n",
            "  (linear_2): Linear(in_features=500, out_features=100, bias=True)\n",
            "  (relu_2): LeakyReLU(negative_slope=0.01)\n",
            "  (dropout_2): Dropout(p=0.5, inplace=False)\n",
            "  (linear_3): Linear(in_features=100, out_features=1, bias=True)\n",
            ")\n"
          ],
          "name": "stdout"
        }
      ]
    },
    {
      "cell_type": "code",
      "metadata": {
        "id": "qO1qrZGdDicM"
      },
      "source": [
        "criterion = torch.nn.BCEWithLogitsLoss(reduction='sum') # Loss function\n",
        "optimizer = torch.optim.Adam(nnet.parameters(), lr=0.01) # Optimizer"
      ],
      "execution_count": 90,
      "outputs": []
    },
    {
      "cell_type": "code",
      "metadata": {
        "colab": {
          "base_uri": "https://localhost:8080/"
        },
        "id": "Yynoyvu2DlLr",
        "outputId": "208509a7-cd71-486b-fde4-33fe4710d08c"
      },
      "source": [
        "# Mover modelo a la RAM de la GPU si hay GPU disponible.\n",
        "device = torch.device(\"cuda:0\" if torch.cuda.is_available() else \"cpu\")\n",
        "nnet.to(device)\n",
        "\n",
        "for epoch in range(50):\n",
        "\n",
        "    running_loss = 0\n",
        "    nnet.train()\n",
        "    for i, data in enumerate(training_dataloader):\n",
        "\n",
        "        # batch\n",
        "        x, user_idx, product_idx, y = data\n",
        "        x = x.to(device).float()\n",
        "        y = y.to(device).float().reshape(-1,1)\n",
        "        user_idx = user_idx.to(device)\n",
        "        product_idx = product_idx.to(device)\n",
        "\n",
        "        # set gradient to zero\n",
        "        optimizer.zero_grad()\n",
        "\n",
        "        # forward \n",
        "        y_hat = nnet(x, user_idx, product_idx)\n",
        "\n",
        "        # loss\n",
        "        loss = criterion(y_hat, y)\n",
        "\n",
        "        # backward\n",
        "        loss.backward()\n",
        "\n",
        "        # update of parameters\n",
        "        optimizer.step()\n",
        "\n",
        "        # compute metrics and statistics\n",
        "        running_loss += loss.item()\n",
        "    \n",
        "    nnet.eval()\n",
        "    with torch.no_grad():\n",
        "        nnet_test_scores = []\n",
        "        truth = []\n",
        "        for i, data in enumerate(test_dataloader):\n",
        "            # batch\n",
        "            x, user_idx, product_idx, y = data\n",
        "            x = x.to(device).float()\n",
        "            y = y.to(device).float().reshape(-1,1)\n",
        "            user_idx = user_idx.to(device)\n",
        "            product_idx = product_idx.to(device)\n",
        "\n",
        "            # forward \n",
        "            y_hat = nnet(x, user_idx, product_idx)\n",
        "            y_hat = torch.sigmoid(y_hat) # Agrego la sigmoid porque en entrenamiento la sigmoid esta incluida en la fx de costo\n",
        "\n",
        "            # accumulate data\n",
        "            truth += list(y.cpu().numpy()) \n",
        "            nnet_test_scores += list(y_hat.cpu().numpy())\n",
        "\n",
        "        fpr, tpr, thresholds = metrics.roc_curve(truth, nnet_test_scores)\n",
        "        auc = metrics.auc(fpr, tpr)\n",
        "        print(f\"Epoch = {epoch} | loss = {running_loss / len(training)} | auc = {auc}\")"
      ],
      "execution_count": 91,
      "outputs": [
        {
          "output_type": "stream",
          "text": [
            "Epoch = 0 | loss = 0.31537845703420947 | auc = 0.9498934899348093\n",
            "Epoch = 1 | loss = 0.27166205708461866 | auc = 0.9534466497708011\n",
            "Epoch = 2 | loss = 0.2607609649474644 | auc = 0.9543008563350905\n",
            "Epoch = 3 | loss = 0.25380826033860127 | auc = 0.954797740358579\n",
            "Epoch = 4 | loss = 0.24901372548050857 | auc = 0.9548862672947004\n",
            "Epoch = 5 | loss = 0.244230022658828 | auc = 0.955161293119449\n",
            "Epoch = 6 | loss = 0.24067235718985272 | auc = 0.9547416400932707\n",
            "Epoch = 7 | loss = 0.23641365129917005 | auc = 0.9545747424938493\n",
            "Epoch = 8 | loss = 0.23266356766599913 | auc = 0.9545340573838328\n",
            "Epoch = 9 | loss = 0.22884500915462194 | auc = 0.9540787863461215\n",
            "Epoch = 10 | loss = 0.2247585996126266 | auc = 0.9538872817574814\n",
            "Epoch = 11 | loss = 0.21999297422288147 | auc = 0.9533644461872597\n",
            "Epoch = 12 | loss = 0.21680569196298025 | auc = 0.9527611110135175\n",
            "Epoch = 13 | loss = 0.21338128233797912 | auc = 0.952976736922577\n",
            "Epoch = 14 | loss = 0.20851922703017417 | auc = 0.9516676704833668\n",
            "Epoch = 15 | loss = 0.20470951219006736 | auc = 0.9513064819085421\n",
            "Epoch = 16 | loss = 0.20146037383114537 | auc = 0.9506710815561042\n",
            "Epoch = 17 | loss = 0.1982155695278996 | auc = 0.9505261142485408\n",
            "Epoch = 18 | loss = 0.19381175291612945 | auc = 0.9497740850870433\n",
            "Epoch = 19 | loss = 0.19173432272023908 | auc = 0.9495439574111733\n",
            "Epoch = 20 | loss = 0.18848851974217395 | auc = 0.9497822883366104\n",
            "Epoch = 21 | loss = 0.18583811873550915 | auc = 0.9490407803894048\n",
            "Epoch = 22 | loss = 0.1825896754744818 | auc = 0.9489339877532763\n",
            "Epoch = 23 | loss = 0.1795663303266593 | auc = 0.9484669923672016\n",
            "Epoch = 24 | loss = 0.17550061927732025 | auc = 0.9478916790414249\n",
            "Epoch = 25 | loss = 0.17410090967236147 | auc = 0.9478309373277032\n",
            "Epoch = 26 | loss = 0.17128644908086932 | auc = 0.946299199332488\n",
            "Epoch = 27 | loss = 0.16950311583416955 | auc = 0.9472172665148211\n",
            "Epoch = 28 | loss = 0.16716982436368288 | auc = 0.9463110313006422\n",
            "Epoch = 29 | loss = 0.16492475544174734 | auc = 0.9455926836843137\n",
            "Epoch = 30 | loss = 0.16221546250301697 | auc = 0.9457291752434811\n",
            "Epoch = 31 | loss = 0.16115288215093723 | auc = 0.94489341926448\n",
            "Epoch = 32 | loss = 0.1593831132952006 | auc = 0.9441577020898643\n",
            "Epoch = 33 | loss = 0.15778443674667986 | auc = 0.9446166722129491\n",
            "Epoch = 34 | loss = 0.15569338269620292 | auc = 0.9443845004509241\n",
            "Epoch = 35 | loss = 0.15466642447500506 | auc = 0.9438084241284256\n",
            "Epoch = 36 | loss = 0.15244645273652915 | auc = 0.9431484202361213\n",
            "Epoch = 37 | loss = 0.15115577616134304 | auc = 0.9431186323197938\n",
            "Epoch = 38 | loss = 0.14972429649233093 | auc = 0.9431212427895912\n",
            "Epoch = 39 | loss = 0.14991107977572804 | auc = 0.9437431796302512\n",
            "Epoch = 40 | loss = 0.14570256789530922 | auc = 0.9426140852153042\n",
            "Epoch = 41 | loss = 0.14473108165464074 | auc = 0.9429348121981391\n",
            "Epoch = 42 | loss = 0.14431807634762964 | auc = 0.9425683143803015\n",
            "Epoch = 43 | loss = 0.14353622092479745 | auc = 0.9427724670538429\n",
            "Epoch = 44 | loss = 0.14203358201795055 | auc = 0.9422682579858757\n",
            "Epoch = 45 | loss = 0.14191603641078904 | auc = 0.942146692463848\n",
            "Epoch = 46 | loss = 0.14005081129887345 | auc = 0.941975671508724\n",
            "Epoch = 47 | loss = 0.13946978923707246 | auc = 0.941445661285782\n",
            "Epoch = 48 | loss = 0.13936826258047705 | auc = 0.9414857738033218\n",
            "Epoch = 49 | loss = 0.1374218044660398 | auc = 0.9411798486809448\n"
          ],
          "name": "stdout"
        }
      ]
    },
    {
      "cell_type": "code",
      "metadata": {
        "id": "BGO81PWmPEQ3"
      },
      "source": [
        "dl_emb_auc = 0.9418"
      ],
      "execution_count": 143,
      "outputs": []
    },
    {
      "cell_type": "markdown",
      "metadata": {
        "id": "fJT7cQ9nzYmj"
      },
      "source": [
        "### (i) Comparación de los modelos\n",
        "\n",
        "1. Comparar los resultados obtenidos.\n",
        "2. Hacer el gráfico de la región de decison para cada modelo."
      ]
    },
    {
      "cell_type": "code",
      "metadata": {
        "id": "7T1Ilu08zayP",
        "colab": {
          "base_uri": "https://localhost:8080/"
        },
        "outputId": "2c6d7d92-c457-4e8a-ac37-1683311da6de"
      },
      "source": [
        "print(\"Resultados de los modelos (AUC)\")\n",
        "print(\"BaseModel: \" + str(bm_auc))\n",
        "print(\"LinearRegression: \" + str(round(lr_auc,4)))\n",
        "print(\"RandomForest: \" + str(round(rf_auc,4)))\n",
        "print(\"DeepLearning: \" + str(dl_auc))\n",
        "print(\"DeepLearning_wEmbeddings: \" + str(dl_emb_auc))"
      ],
      "execution_count": 146,
      "outputs": [
        {
          "output_type": "stream",
          "text": [
            "Resultados de los modelos (AUC)\n",
            "BaseModel: 0.5\n",
            "LinearRegression: 0.9278\n",
            "RandomForest: 0.9252\n",
            "DeepLearning: 0.9316\n",
            "DeepLearning_wEmbeddings: 0.9418\n"
          ],
          "name": "stdout"
        }
      ]
    },
    {
      "cell_type": "code",
      "metadata": {
        "colab": {
          "base_uri": "https://localhost:8080/",
          "height": 276
        },
        "id": "SsNt9QcYQSxr",
        "outputId": "d7d88e6a-d1b2-46a7-8a38-73860547d459"
      },
      "source": [
        "# Análisis de features más importantes\n",
        "from sklearn.decomposition import PCA\n",
        "sk_pca = PCA()\n",
        "sk_pca.fit(X_train)\n",
        "\n",
        "plt.plot(np.cumsum(sk_pca.explained_variance_ratio_)); plt.grid(True);"
      ],
      "execution_count": 147,
      "outputs": [
        {
          "output_type": "display_data",
          "data": {
            "image/png": "[encoded data removed]",
            "text/plain": [
              "<Figure size 432x288 with 1 Axes>"
            ]
          },
          "metadata": {}
        }
      ]
    }
  ]
}